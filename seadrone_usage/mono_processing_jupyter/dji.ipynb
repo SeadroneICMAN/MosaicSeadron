{
 "cells": [
  {
   "cell_type": "markdown",
   "metadata": {},
   "source": [
    "# Dji Processing"
   ]
  },
  {
   "cell_type": "markdown",
   "metadata": {},
   "source": [
    "## Dependencies\n",
    "\n",
    "Libraries needed for the program execution"
   ]
  },
  {
   "cell_type": "code",
   "execution_count": 1,
   "metadata": {},
   "outputs": [],
   "source": [
    "import os\n",
    "import rasterio\n",
    "import glob\n",
    "import numpy as np\n",
    "import yaml\n",
    "\n",
    "from rasterio.enums import Resampling\n",
    "from dataclasses import asdict\n",
    "\n",
    "from seadrone.data_structures import Profile, GeoreferencePartition, MergePartition, Partition, Resampling as ResamplingSeadrone\n",
    "from seadrone.enums import SensorType, FlightMode\n",
    "from seadrone.processing import FlightProcessor as processor, get_sensor"
   ]
  },
  {
   "cell_type": "markdown",
   "metadata": {},
   "source": [
    "## Variables Set Up\n",
    "\n",
    "**project_path**: It is used to define some useful subfolders of our flight and it's the folder path that contains all the flight data.\n",
    "\n",
    "**file_path**: Is the full path of some flight capture that contains metadata like GPS, ...; It's used to generate automatically the sensor data needed for georeferencing, ...\n",
    "\n",
    "**flight_folder**: Normally, this folder contains all the flight captures in .jpg format. The name can be whatever you want. For RGB should be RGB and for thermal data should be thermogram. But it's up to you.\n",
    "\n",
    "**atygeo_folder**: This folder contains radiometric data processed by atygeo software. The name can be modified but normally it should be **atygeo**.\n",
    "\n",
    "**georeference_out_folder**: This folder contains all the georefered captures. It's structure is \"georeferences -> folder -> partition -> captures\".\n",
    "\n",
    "**merge_out_folder**: This folder contains all the merged captures. It's structure is \"merges -> folder -> partition -> merge_method -> captures\".\n",
    "\n",
    "**resample_out_folder**: This folder contains all the resampled captures. It's structure is \"resamples -> folder -> partition -> merge_method -> captures\".\n",
    "\n",
    "**metadata_out_name**: The full path where the metadata.csv file of each flight captures will be saved.\n",
    "\n",
    "**fligth_lines_out_name**: The full path where the flight_lines.yaml file use for georeference and merge will be saved.\n",
    "\n",
    "**sensor**: A representation of the sensor specifications of the flight like focal_length, bands_number, ...\n",
    "\n",
    "**flight_profile**: The profile needed to save a jpg file using rasterio library.\n",
    "\n",
    "**atygeo_profile**: The profile needed to save a radiometric file using rasterio library.\n",
    "\n",
    "**flight_flip_axis** & **atygeo_flip_axis**: For georeference it's necessary to flip the data matrix [bands, height, width]. In DJI case, flipping the height is sufficient.\n",
    "\n",
    "**steps_in_flight_line**: When processing a flight line, sometimes we want to skip some captures. Setting this variable to 1 means no skip, just process the next capture, 2 means skip 1 capture and so on.\n",
    "\n",
    "**partitions**: Sometimes we don't want to include all flight lines in our mosaic. This dictionary defines some slices to process all, even and odd flight lines.\n",
    "\n",
    "**partitions_for_georeference**: The flight lines to georeference.\n",
    "\n",
    "**partitions_for_merge**: The flight lines to merge.\n",
    "\n",
    "**partitions_for_resample**: The flight lines to resample.\n",
    "\n",
    "**merge_methods**: The merge method to use. Available options are 'mean', 'first', 'min' and 'max'.\n",
    "\n",
    "**resampling_methods**: Sometime we want to redude the spatial resolution of our mosaic. To achieve that we define a Resampling variable contained in the **data_structures.py** file that receives: The resampling method, the x scale, the y scale and a boolean indicating whether to downsample or upsample."
   ]
  },
  {
   "cell_type": "code",
   "execution_count": 8,
   "metadata": {},
   "outputs": [],
   "source": [
    "project_path = r'D:\\DATOS1\\Procesamientos\\Texas\\07_31_2022' # editable\n",
    "file_path = r'd:\\DATOS1\\Procesamientos\\Texas\\07_31_2022\\main\\DJI_0001.JPG' # editable\n",
    "\n",
    "flight_folder = os.path.join(project_path, 'main')\n",
    "atygeo_folder = os.path.join(project_path, 'atygeo')\n",
    "\n",
    "georeference_out_folder = os.path.join(project_path, 'georeferences')\n",
    "merge_out_folder = os.path.join(project_path, 'merges')\n",
    "resample_out_folder = os.path.join(project_path, 'resamples')\n",
    "\n",
    "metadata_out_name = os.path.join(project_path, 'metadata', 'metadata.csv')\n",
    "fligth_lines_out_name = os.path.join(project_path, 'flight_lines.yaml')\n",
    "\n",
    "sensor = get_sensor(SensorType.DJI, file_path)\n",
    "\n",
    "flight_profile = Profile(dtype = rasterio.uint8, count = sensor.bands_number, height = sensor.height, width = sensor.width, nodata = 0) # editable\n",
    "atygeo_profile = Profile(dtype = rasterio.float32, count = 1, height = sensor.height, width = sensor.width, nodata = np.NAN) # editable\n",
    "\n",
    "flight_flip_axis = [1] # editable\n",
    "atygeo_flip_axis = [1] # editable\n",
    "\n",
    "steps_in_flight_line = 2 # editable\n",
    "\n",
    "partitions = {\n",
    "    'even' : Partition('even', 0, None, 2),\n",
    "    'odd' : Partition('odd', 1, None, 2),\n",
    "    'all' : Partition('all', 0, None, 1),\n",
    "}\n",
    "\n",
    "partitions_for_georeference = ['even'] # editable\n",
    "partitions_for_merge = ['even'] # editable\n",
    "partitions_for_resample = ['even'] # editable\n",
    "merge_methods = ['mean', 'first'] # editable\n",
    "split_merge_bands = True\n",
    "\n",
    "resampling_methods = [ # editable\n",
    "    ResamplingSeadrone(Resampling.average, 5, 5, True),\n",
    "    ResamplingSeadrone(Resampling.average, 10, 10, True),\n",
    "    ResamplingSeadrone(Resampling.average, 15, 15, True),\n",
    "]"
   ]
  },
  {
   "cell_type": "markdown",
   "metadata": {},
   "source": [
    "## Processing"
   ]
  },
  {
   "cell_type": "markdown",
   "metadata": {},
   "source": [
    "### Extract Metadata"
   ]
  },
  {
   "cell_type": "code",
   "execution_count": null,
   "metadata": {},
   "outputs": [],
   "source": [
    "flight_metadata = processor.get_captures_metadata(flight_folder)\n",
    "processor.save_metadata(flight_metadata, metadata_out_name)"
   ]
  },
  {
   "cell_type": "markdown",
   "metadata": {},
   "source": [
    "### Load metadata"
   ]
  },
  {
   "cell_type": "code",
   "execution_count": null,
   "metadata": {},
   "outputs": [],
   "source": [
    "flight_metadata = None\n",
    "\n",
    "if os.path.exists(metadata_out_name):\n",
    "    in_folder = os.path.dirname(metadata_out_name)\n",
    "    in_name = os.path.basename(metadata_out_name)\n",
    "    flight_metadata = processor.load_metadata(in_folder, in_name)"
   ]
  },
  {
   "cell_type": "markdown",
   "metadata": {},
   "source": [
    "### Extract Flight Lines\n",
    "\n",
    "**correction**: We normally have to reduce the flight angle by -90 o -270 because of the cameratransform library.\n",
    "\n",
    "**altitude**: Average altitude of the drone during the flight. We usually set this to None. Meaning that we'll use the altitude of each capture for the georeferencing part.\n",
    "\n",
    "**yaw**: Flight angle.\n",
    "\n",
    "**pitch**: Average pitch of the drone during the flight. We usually set this to 0.\n",
    "\n",
    "**roll**: Average roll of the drone during the flight. We usually set this to 0."
   ]
  },
  {
   "cell_type": "code",
   "execution_count": null,
   "metadata": {},
   "outputs": [],
   "source": [
    "correction = -90 # editable\n",
    "altitude = None # editable\n",
    "yaw = 90 # editable\n",
    "pitch = 0 # editable\n",
    "roll = 0 # editable\n",
    "\n",
    "fligth_lines = processor.compute_flight_lines(flight_metadata.Yaw, altitude, yaw + correction, pitch, roll, FlightMode.OVERLAP_FIXED)\n",
    "processor.save_flight_lines(fligth_lines, fligth_lines_out_name)"
   ]
  },
  {
   "cell_type": "markdown",
   "metadata": {},
   "source": [
    "### Load Flight Lines"
   ]
  },
  {
   "cell_type": "code",
   "execution_count": null,
   "metadata": {},
   "outputs": [],
   "source": [
    "fligth_lines = None\n",
    "\n",
    "if os.path.exists(fligth_lines_out_name):\n",
    "    in_folder = os.path.dirname(fligth_lines_out_name)\n",
    "    in_name = os.path.basename(fligth_lines_out_name)\n",
    "    fligth_lines = processor.load_flight_lines(in_folder, in_name)"
   ]
  },
  {
   "cell_type": "markdown",
   "metadata": {},
   "source": [
    "### Georeference"
   ]
  },
  {
   "cell_type": "markdown",
   "metadata": {},
   "source": [
    "#### Flight"
   ]
  },
  {
   "cell_type": "code",
   "execution_count": null,
   "metadata": {},
   "outputs": [],
   "source": [
    "folders_to_georeference = [flight_folder]\n",
    "\n",
    "for folder_to_georeference in folders_to_georeference:\n",
    "    current_georeference_out_folder = os.path.join(georeference_out_folder, os.path.basename(folder_to_georeference))\n",
    "    for partition_to_use in partitions_for_georeference:\n",
    "        georefence_partition = GeoreferencePartition(**asdict(partitions[partition_to_use]), profile = flight_profile)\n",
    "        processor.georefence_images(metadata = flight_metadata, partition = georefence_partition, flight_lines = fligth_lines,\n",
    "                                    in_folder = folder_to_georeference, out_folder = current_georeference_out_folder,\n",
    "                                    flip_axis = flight_flip_axis, use_metadata = True, overwrite = True)"
   ]
  },
  {
   "cell_type": "markdown",
   "metadata": {},
   "source": [
    "#### Atygeo"
   ]
  },
  {
   "cell_type": "code",
   "execution_count": null,
   "metadata": {},
   "outputs": [],
   "source": [
    "folders_to_georeference = [atygeo_folder]\n",
    "\n",
    "for folder_to_georeference in folders_to_georeference:\n",
    "    current_georeference_out_folder = os.path.join(georeference_out_folder, os.path.basename(folder_to_georeference))\n",
    "    for partition_to_use in partitions_for_georeference:\n",
    "        georefence_partition = GeoreferencePartition(**asdict(partitions[partition_to_use]), profile = atygeo_profile)\n",
    "        processor.georefence_bands(metadata = flight_metadata, partition = georefence_partition, flight_lines = fligth_lines,\n",
    "                                    in_folder = folder_to_georeference, out_folder = current_georeference_out_folder,\n",
    "                                    flip_axis = atygeo_flip_axis, use_metadata = True, overwrite = True)"
   ]
  },
  {
   "cell_type": "markdown",
   "metadata": {},
   "source": [
    "### Merge\n",
    "\n",
    "**band_names**: If we set this variable using sensor.band_names or whatever we want, the mosaic will be splitted if the number of bands is the mosaic has the same length as band_names. In other case, the mosaic will not be splitted. The variable have the structure List[str]. Example: ['blue', 'red', ...]"
   ]
  },
  {
   "cell_type": "code",
   "execution_count": null,
   "metadata": {},
   "outputs": [],
   "source": [
    "folders_to_merge = glob.glob(os.path.join(georeference_out_folder, '*'))\n",
    "band_names = None\n",
    "\n",
    "for folder_to_merge in folders_to_merge:\n",
    "    current_merge_out_folder = os.path.join(merge_out_folder, os.path.basename(folder_to_merge))\n",
    "\n",
    "    for partition_to_use in partitions_for_merge:\n",
    "        for merge_method in merge_methods:\n",
    "            merge_partition = MergePartition(**asdict(partitions[partition_to_use]), skip = steps_in_flight_line)\n",
    "            processor.merge(metadata = flight_metadata, partition = merge_partition, flight_lines = fligth_lines,\n",
    "                            in_folder = folder_to_merge, out_folder = current_merge_out_folder, method = merge_method,\n",
    "                            band_names = band_names)"
   ]
  },
  {
   "cell_type": "markdown",
   "metadata": {},
   "source": [
    "### Resample"
   ]
  },
  {
   "cell_type": "code",
   "execution_count": 9,
   "metadata": {},
   "outputs": [],
   "source": [
    "folders_to_resample = glob.glob(os.path.join(merge_out_folder, '*'))\n",
    "\n",
    "for folder_to_resample in folders_to_resample:\n",
    "    processor.resample(folder_to_resample, resample_out_folder, resampling_methods)"
   ]
  }
 ],
 "metadata": {
  "kernelspec": {
   "display_name": "seadrone-venv",
   "language": "python",
   "name": "python3"
  },
  "language_info": {
   "codemirror_mode": {
    "name": "ipython",
    "version": 3
   },
   "file_extension": ".py",
   "mimetype": "text/x-python",
   "name": "python",
   "nbconvert_exporter": "python",
   "pygments_lexer": "ipython3",
   "version": "3.10.11"
  },
  "orig_nbformat": 4
 },
 "nbformat": 4,
 "nbformat_minor": 2
}
